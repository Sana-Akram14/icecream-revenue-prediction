{
 "cells": [
  {
   "cell_type": "markdown",
   "id": "31a868e0",
   "metadata": {},
   "source": [
    "# 🍦 Ice Cream Revenue Prediction (Beginner Friendly)\n",
    "\n",
    "Welcome! This project is a simple example of how to use **Linear Regression** to predict the revenue of an ice cream shop based on the temperature.\n",
    "\n",
    "Steps we will follow:\n",
    "1. Import libraries\n",
    "2. Create a small synthetic dataset\n",
    "3. Visualize the data\n",
    "4. Train a Linear Regression model\n",
    "5. Evaluate the model\n",
    "6. Make predictions\n"
   ]
  },
  {
   "cell_type": "markdown",
   "id": "aeaed36c",
   "metadata": {},
   "source": [
    "## Step 1: Import Libraries"
   ]
  },
  {
   "cell_type": "code",
   "execution_count": null,
   "id": "fe86854b",
   "metadata": {},
   "outputs": [],
   "source": [
    "import pandas as pd\n",
    "import numpy as np\n",
    "import matplotlib.pyplot as plt\n",
    "from sklearn.model_selection import train_test_split\n",
    "from sklearn.linear_model import LinearRegression\n",
    "from sklearn.metrics import mean_squared_error, r2_score"
   ]
  },
  {
   "cell_type": "markdown",
   "id": "8eae74ab",
   "metadata": {},
   "source": [
    "## Step 2: Create Synthetic Dataset"
   ]
  },
  {
   "cell_type": "code",
   "execution_count": null,
   "id": "fcad5e82",
   "metadata": {},
   "outputs": [],
   "source": [
    "np.random.seed(42)\n",
    "n = 100\n",
    "# temperature between 10°C and 40°C\n",
    "temperature = np.random.randint(10, 40, n)\n",
    "# revenue grows with temperature + some noise\n",
    "revenue = 200 + 15*temperature + np.random.normal(0, 50, n)\n",
    "\n",
    "# Put into DataFrame\n",
    "df = pd.DataFrame({'temperature': temperature, 'revenue': revenue})\n",
    "df.head()"
   ]
  },
  {
   "cell_type": "markdown",
   "id": "919ca485",
   "metadata": {},
   "source": [
    "## Step 3: Visualize Data"
   ]
  },
  {
   "cell_type": "code",
   "execution_count": null,
   "id": "2d737ef2",
   "metadata": {},
   "outputs": [],
   "source": [
    "plt.scatter(df['temperature'], df['revenue'], color='blue')\n",
    "plt.xlabel('Temperature (°C)')\n",
    "plt.ylabel('Revenue')\n",
    "plt.title('Temperature vs Revenue')\n",
    "plt.show()"
   ]
  },
  {
   "cell_type": "markdown",
   "id": "edd35784",
   "metadata": {},
   "source": [
    "## Step 4: Train-Test Split"
   ]
  },
  {
   "cell_type": "code",
   "execution_count": null,
   "id": "2dbbebce",
   "metadata": {},
   "outputs": [],
   "source": [
    "X = df[['temperature']]\n",
    "y = df['revenue']\n",
    "X_train, X_test, y_train, y_test = train_test_split(X, y, test_size=0.2, random_state=42)\n",
    "print('Training samples:', X_train.shape[0])\n",
    "print('Testing samples:', X_test.shape[0])"
   ]
  },
  {
   "cell_type": "markdown",
   "id": "20558344",
   "metadata": {},
   "source": [
    "## Step 5: Train Linear Regression Model"
   ]
  },
  {
   "cell_type": "code",
   "execution_count": null,
   "id": "c97ca41f",
   "metadata": {},
   "outputs": [],
   "source": [
    "model = LinearRegression()\n",
    "model.fit(X_train, y_train)\n",
    "print('Model trained successfully!')"
   ]
  },
  {
   "cell_type": "markdown",
   "id": "8c902374",
   "metadata": {},
   "source": [
    "## Step 6: Evaluate Model"
   ]
  },
  {
   "cell_type": "code",
   "execution_count": null,
   "id": "6f5b2b7e",
   "metadata": {},
   "outputs": [],
   "source": [
    "y_pred = model.predict(X_test)\n",
    "print('Mean Squared Error:', mean_squared_error(y_test, y_pred))\n",
    "print('R² Score:', r2_score(y_test, y_pred))"
   ]
  },
  {
   "cell_type": "markdown",
   "id": "32cf1ca9",
   "metadata": {},
   "source": [
    "## Step 7: Make Predictions"
   ]
  },
  {
   "cell_type": "code",
   "execution_count": null,
   "id": "37e832a4",
   "metadata": {},
   "outputs": [],
   "source": [
    "temp_input = 30  # example input\n",
    "predicted_revenue = model.predict([[temp_input]])[0]\n",
    "print(f'Predicted revenue at {temp_input}°C: {predicted_revenue:.2f}')"
   ]
  }
 ],
 "metadata": {},
 "nbformat": 4,
 "nbformat_minor": 5
}
